{
  "nbformat": 4,
  "nbformat_minor": 0,
  "metadata": {
    "colab": {
      "provenance": [],
      "authorship_tag": "ABX9TyM4melK3XRcnHJbCACuZJbe",
      "include_colab_link": true
    },
    "kernelspec": {
      "name": "python3",
      "display_name": "Python 3"
    },
    "language_info": {
      "name": "python"
    }
  },
  "cells": [
    {
      "cell_type": "markdown",
      "metadata": {
        "id": "view-in-github",
        "colab_type": "text"
      },
      "source": [
        "<a href=\"https://colab.research.google.com/github/technical-boop/Assigment-Week-6/blob/main/Assignment_week_6.ipynb\" target=\"_parent\"><img src=\"https://colab.research.google.com/assets/colab-badge.svg\" alt=\"Open In Colab\"/></a>"
      ]
    },
    {
      "cell_type": "markdown",
      "source": [
        "Assignment Research\n",
        "Reseach and practive the following about functions:\n",
        "\n",
        "How to write Keywword arguments\n",
        "Variable number of arguments\n",
        "*args\n",
        "**kwargs"
      ],
      "metadata": {
        "id": "aer8GVxcd2rE"
      }
    },
    {
      "cell_type": "code",
      "source": [
        "#*args The Greeter\n",
        "\n",
        "def greet(*names):\n",
        "  for name in names:\n",
        "    print(f\"Hello, {name}!\")\n",
        "\n",
        "greet(\"Phuntsho\")\n",
        "print(\"---\")\n",
        "greet(\"leki\", \"Loday\")"
      ],
      "metadata": {
        "colab": {
          "base_uri": "https://localhost:8080/"
        },
        "id": "onF2dta0dKRX",
        "outputId": "1aaa0b22-4600-419e-c848-b86fde621a5b"
      },
      "execution_count": 74,
      "outputs": [
        {
          "output_type": "stream",
          "name": "stdout",
          "text": [
            "Hello, Phuntsho!\n",
            "---\n",
            "Hello, leki!\n",
            "Hello, Loday!\n"
          ]
        }
      ]
    },
    {
      "cell_type": "code",
      "source": [
        "#*args Adder\n",
        "\n",
        "def my_sum(*numbers):\n",
        "    total = 0\n",
        "    for num in numbers:\n",
        "        total += num\n",
        "    return total\n",
        "\n",
        "print(my_sum(1, 2, 3))\n",
        "print(my_sum(10, 60, 30, 40, 50))\n",
        "print(my_sum(20,100,300,699,599))"
      ],
      "metadata": {
        "colab": {
          "base_uri": "https://localhost:8080/"
        },
        "id": "oCHMFiHreYUZ",
        "outputId": "14ab8a15-acf2-4ef5-ba59-5b7b58fc2429"
      },
      "execution_count": 75,
      "outputs": [
        {
          "output_type": "stream",
          "name": "stdout",
          "text": [
            "6\n",
            "190\n",
            "1718\n"
          ]
        }
      ]
    },
    {
      "cell_type": "markdown",
      "source": [
        "How to write Keywword arguments Variable number of arguments **kwargs"
      ],
      "metadata": {
        "id": "lQAcCfeae2JS"
      }
    },
    {
      "cell_type": "code",
      "source": [
        "#**Kwargs Building a Profile\n",
        "def build_profile(first, last, **user_info):\n",
        "    profile = {}\n",
        "    profile['first_name'] = first\n",
        "    profile['last_name'] = last\n",
        "    for key, value in user_info.items():\n",
        "        profile[key] = value\n",
        "    return profile\n",
        "\n",
        "user = build_profile('Phuntsho', 'Loday', age=25, profession='IT Officer')\n",
        "print(user)"
      ],
      "metadata": {
        "colab": {
          "base_uri": "https://localhost:8080/"
        },
        "id": "oddcWElCe764",
        "outputId": "12d7ecc5-f384-479e-e15d-20bb171daf65"
      },
      "execution_count": 77,
      "outputs": [
        {
          "output_type": "stream",
          "name": "stdout",
          "text": [
            "{'first_name': 'Phuntsho', 'last_name': 'Loday', 'age': 25, 'profession': 'IT Officer'}\n"
          ]
        }
      ]
    },
    {
      "cell_type": "markdown",
      "source": [
        "# Assignment on Functions:\n",
        "Create a calculator\n",
        "\n",
        "Write a python program that:\n",
        "1. Defines a function called calculate_grade(marks) that:\n",
        "  - Takes marks (0-100) as input\n",
        "  - Returns the grade based the this scale\n",
        "    - 90-100 - A\n",
        "    - 80-89 - B\n",
        "    - 70-79 - C\n",
        "    - 60 - 69 - D\n",
        "    - Below 60 - F\n",
        "2. Ask the user to enter their marks\n",
        "3. Call the function and print \"Your grade is X\"\n"
      ],
      "metadata": {
        "id": "w2Fj3mrqh4Pp"
      }
    },
    {
      "cell_type": "code",
      "source": [
        "def calculate_grade(marks):\n",
        "    if marks >= 90:\n",
        "        return 'A'\n",
        "    elif marks >= 80:\n",
        "        return 'B'\n",
        "    elif marks >= 70:\n",
        "        return 'C'\n",
        "    elif marks >= 60:\n",
        "        return 'D'\n",
        "    else:\n",
        "        return 'F'\n",
        "\n",
        "# Ask the user for their marks\n",
        "marks = float(input(\"Enter your marks (0-100): \"))\n",
        "\n",
        "# Call the function and display the result\n",
        "grade = calculate_grade(marks)\n",
        "print(f\"Your grade is {grade}\")"
      ],
      "metadata": {
        "colab": {
          "base_uri": "https://localhost:8080/"
        },
        "id": "JllH1zTkkp5G",
        "outputId": "4659eb4f-f06d-4148-ea91-924fcecd9190"
      },
      "execution_count": 80,
      "outputs": [
        {
          "output_type": "stream",
          "name": "stdout",
          "text": [
            "Enter your marks (0-100): 80\n",
            "Your grade is B\n"
          ]
        }
      ]
    },
    {
      "cell_type": "markdown",
      "source": [
        "# Assignment:\n",
        "You have a Cinema you are operating giving tickets based on age\n",
        "- Children (Below 12 years) pay 300\n",
        "- Teenager (12 and 17) Pay 500\n",
        "- Adults (18 - 59) Pay 800\n",
        "- Senoirs (60+ ) pay 400\n",
        "\n",
        "Write a python program that will ask\n",
        "1. Ask the user to enter the age\n",
        "2. Uses an if statement to decide the ticket price\n",
        "3. print \"Your ticket price is AMT: X\" where X is the correct price"
      ],
      "metadata": {
        "id": "InJ1WCqpm5IF"
      }
    },
    {
      "cell_type": "code",
      "source": [
        "# Ask the user for their age\n",
        "age = int(input(\"Please enter your age: \"))\n",
        "\n",
        "# Determine the ticket price based on age\n",
        "if age < 12:\n",
        "    price = 300\n",
        "elif age <= 17:  # 12-17 years old\n",
        "    price = 500\n",
        "elif age <= 59:  # 18-59 years old\n",
        "    price = 800\n",
        "else:  # 60+ years old\n",
        "    price = 400\n",
        "\n",
        "# Display the result\n",
        "print(f\"Your ticket price is AMT: {price}\")"
      ],
      "metadata": {
        "id": "QTcQMjQfm6ej"
      },
      "execution_count": null,
      "outputs": []
    },
    {
      "cell_type": "markdown",
      "source": [
        "# Assignment;\n",
        "- Write a python program that;\n",
        "1. Picks a secret number (e.g 7)\n",
        "2. Asks the user to guess the number\n",
        "3. keep asking until the user gueses correclty (Using the while loop)\n",
        "4. Print \"Congratulations, you gazed it right\" when the answer is correct"
      ],
      "metadata": {
        "id": "Smr5zf4BnkGK"
      }
    },
    {
      "cell_type": "code",
      "source": [
        "# Set the secret number\n",
        "secret_number = 14\n",
        "\n",
        "# Ask for the first guess\n",
        "guess = int(input(\"Guess the secret number (between 1-20): \"))\n",
        "\n",
        "# Keep asking until the guess is correct\n",
        "while guess != secret_number:\n",
        "    guess = int(input(\"Wrong guess! Try again: \"))\n",
        "\n",
        "# When the loop ends, the guess is correct\n",
        "print(\"Congratulations, you guessed it right!\")"
      ],
      "metadata": {
        "colab": {
          "base_uri": "https://localhost:8080/"
        },
        "id": "bvF4ByIDn3G0",
        "outputId": "0f80f433-6886-4b00-f39c-9f99c36d0b6a"
      },
      "execution_count": 73,
      "outputs": [
        {
          "output_type": "stream",
          "name": "stdout",
          "text": [
            "Guess the secret number (between 1-20): 3\n",
            "Wrong guess! Try again: 49\n",
            "Wrong guess! Try again: 13\n",
            "Wrong guess! Try again: 14\n",
            "Congratulations, you guessed it right!\n"
          ]
        }
      ]
    }
  ]
}